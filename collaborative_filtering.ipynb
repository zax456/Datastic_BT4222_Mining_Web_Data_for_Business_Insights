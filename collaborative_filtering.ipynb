{
 "cells": [
  {
   "cell_type": "markdown",
   "metadata": {
    "colab_type": "text",
    "id": "b4ziuTbfLLNP"
   },
   "source": [
    "## Load Data"
   ]
  },
  {
   "cell_type": "code",
   "execution_count": 1,
   "metadata": {
    "colab": {},
    "colab_type": "code",
    "id": "I1cnOcc2ZsJs"
   },
   "outputs": [],
   "source": [
    "import pandas as pd\n",
    "import numpy as np"
   ]
  },
  {
   "cell_type": "code",
   "execution_count": 1,
   "metadata": {
    "colab": {},
    "colab_type": "code",
    "id": "ykQ3iElDaCI0"
   },
   "outputs": [
    {
     "ename": "NameError",
     "evalue": "name 'pd' is not defined",
     "output_type": "error",
     "traceback": [
      "\u001b[0;31m---------------------------------------------------------------------------\u001b[0m",
      "\u001b[0;31mNameError\u001b[0m                                 Traceback (most recent call last)",
      "\u001b[0;32m<ipython-input-1-bd05507327c8>\u001b[0m in \u001b[0;36m<module>\u001b[0;34m()\u001b[0m\n\u001b[0;32m----> 1\u001b[0;31m \u001b[0mmovies_info\u001b[0m\u001b[0;34m=\u001b[0m\u001b[0mpd\u001b[0m\u001b[0;34m.\u001b[0m\u001b[0mread_csv\u001b[0m\u001b[0;34m(\u001b[0m\u001b[0;34m\"./datasets/movie_data_merged_v2.csv\"\u001b[0m\u001b[0;34m)\u001b[0m\u001b[0;34m.\u001b[0m\u001b[0mdrop\u001b[0m\u001b[0;34m(\u001b[0m\u001b[0;34m\"Unnamed: 0\"\u001b[0m\u001b[0;34m,\u001b[0m\u001b[0maxis\u001b[0m\u001b[0;34m=\u001b[0m\u001b[0;36m1\u001b[0m\u001b[0;34m)\u001b[0m\u001b[0;34m\u001b[0m\u001b[0m\n\u001b[0m\u001b[1;32m      2\u001b[0m \u001b[0muser_info\u001b[0m\u001b[0;34m=\u001b[0m\u001b[0mpd\u001b[0m\u001b[0;34m.\u001b[0m\u001b[0mread_csv\u001b[0m\u001b[0;34m(\u001b[0m\u001b[0;34mr'./datasets/users.csv'\u001b[0m\u001b[0;34m)\u001b[0m\u001b[0;34m\u001b[0m\u001b[0m\n\u001b[1;32m      3\u001b[0m \u001b[0mmovie_ratings\u001b[0m \u001b[0;34m=\u001b[0m \u001b[0mpd\u001b[0m\u001b[0;34m.\u001b[0m\u001b[0mread_csv\u001b[0m\u001b[0;34m(\u001b[0m\u001b[0;34mr'./datasets/user_ratings.csv'\u001b[0m\u001b[0;34m)\u001b[0m\u001b[0;34m\u001b[0m\u001b[0m\n",
      "\u001b[0;31mNameError\u001b[0m: name 'pd' is not defined"
     ]
    }
   ],
   "source": [
    "movies_info=pd.read_csv(\"./datasets/movie_data_merged_v2.csv\").drop(\"Unnamed: 0\",axis=1)\n",
    "user_info=pd.read_csv(r'./datasets/users.csv')\n",
    "movie_ratings = pd.read_csv(r'./datasets/user_ratings.csv')"
   ]
  },
  {
   "cell_type": "code",
   "execution_count": 14,
   "metadata": {
    "colab": {},
    "colab_type": "code",
    "id": "_myCy2_QV-VC"
   },
   "outputs": [],
   "source": [
    "ratings_v1=movie_ratings.merge(user_info,how=\"left\",left_on=\"user\",right_on=\"userid\")\n",
    "ratings_v2=ratings_v1.merge(movies_info,how=\"inner\",left_on=\"movie\",right_on=\"movie_id\")"
   ]
  },
  {
   "cell_type": "code",
   "execution_count": 15,
   "metadata": {
    "colab": {},
    "colab_type": "code",
    "id": "Enq3huGgaQNJ"
   },
   "outputs": [],
   "source": [
    "ratings_v2 = ratings_v2.sample(frac=1, axis=0,random_state=1).reset_index(drop=True)\n",
    "n_rows=ratings_v2.shape[0]\n",
    "one_tenth=n_rows//10\n",
    "##train\n",
    "train = ratings_v2.iloc[:8*one_tenth,]\n",
    "validation=ratings_v2.iloc[8*one_tenth:9*one_tenth,]\n",
    "test=ratings_v2.iloc[9*one_tenth:,]"
   ]
  },
  {
   "cell_type": "markdown",
   "metadata": {
    "colab_type": "text",
    "id": "2a-UhHi8LRH7"
   },
   "source": [
    "## Set up data into surprise package formats"
   ]
  },
  {
   "cell_type": "code",
   "execution_count": 5,
   "metadata": {
    "colab": {},
    "colab_type": "code",
    "id": "4Y3_eTiaWAKD"
   },
   "outputs": [],
   "source": [
    "from surprise import SVD,NMF,SVDpp,Dataset,Reader\n",
    "from surprise.model_selection import train_test_split\n",
    "\n",
    "reader = Reader(rating_scale=(1, 5))\n",
    "\n",
    "data_1 = Dataset.load_from_df(train[['user', 'movie', 'rating']], reader)\n",
    "data_2 = Dataset.load_from_df(validation[['user', 'movie', 'rating']], reader)\n",
    "data_3 = Dataset.load_from_df(test[['user', 'movie', 'rating']], reader)\n",
    "\n",
    "trainset,dummyset = train_test_split(data_1, test_size=0.00001)\n",
    "dummyset,valset = train_test_split(data_2, test_size=1.0)\n",
    "dummyset,testset= train_test_split(data_3, test_size=1.0)\n"
   ]
  },
  {
   "cell_type": "code",
   "execution_count": 6,
   "metadata": {
    "colab": {},
    "colab_type": "code",
    "id": "0jjo1EY9Y7XA"
   },
   "outputs": [],
   "source": [
    "from sklearn.metrics import confusion_matrix,accuracy_score,f1_score\n",
    "\n",
    "def diagnose_reccomendation(model,data):\n",
    "  pred = model.test(data)\n",
    "  pred_rec=pd.DataFrame(pred)\n",
    "  pred_rec[\"real_rec\"]= pred_rec[\"r_ui\"].apply(lambda x: x>=3.5)\n",
    "  pred_rec[\"predict_rec\"] = pred_rec[\"est\"].apply(lambda x: x>=3.5)\n",
    "  print(confusion_matrix(pred_rec[\"real_rec\"],pred_rec[\"predict_rec\"]))\n",
    "  print(accuracy_score(pred_rec[\"real_rec\"],pred_rec[\"predict_rec\"]))\n",
    "  print(f1_score(pred_rec[\"real_rec\"],pred_rec[\"predict_rec\"]))\n",
    "  "
   ]
  },
  {
   "cell_type": "markdown",
   "metadata": {
    "colab_type": "text",
    "id": "MHJYdjMeLbzQ"
   },
   "source": [
    "## SVD++"
   ]
  },
  {
   "cell_type": "code",
   "execution_count": 0,
   "metadata": {
    "colab": {},
    "colab_type": "code",
    "id": "eKijxIajTdtX"
   },
   "outputs": [],
   "source": [
    "svd_pp_model = SVDpp(verbose=True,n_epochs=20,n_factors=200,reg_all=0.05)\n",
    "svd_pp_model.fit(trainset)\n",
    "#svd++ model takes super long to train"
   ]
  },
  {
   "cell_type": "code",
   "execution_count": 0,
   "metadata": {
    "colab": {
     "base_uri": "https://localhost:8080/",
     "height": 85
    },
    "colab_type": "code",
    "executionInfo": {
     "elapsed": 18213,
     "status": "ok",
     "timestamp": 1554138595920,
     "user": {
      "displayName": "Lee Ying Yang",
      "photoUrl": "",
      "userId": "03053323072997202924"
     },
     "user_tz": -480
    },
    "id": "uigD9XlSjrfF",
    "outputId": "e0a8baad-0cb2-44b6-9f85-c67c7e305d9c"
   },
   "outputs": [
    {
     "name": "stdout",
     "output_type": "stream",
     "text": [
      "[[13412  6789]\n",
      " [ 5563 22443]]\n",
      "0.7437716514199183\n",
      "0.7841993081519271\n"
     ]
    }
   ],
   "source": [
    "#svd++\n",
    "diagnose_reccomendation(svd_pp_model,valset)"
   ]
  },
  {
   "cell_type": "markdown",
   "metadata": {
    "colab_type": "text",
    "id": "ETyg2iQ1Lhkk"
   },
   "source": [
    "## SVD"
   ]
  },
  {
   "cell_type": "code",
   "execution_count": 0,
   "metadata": {
    "colab": {
     "base_uri": "https://localhost:8080/",
     "height": 85
    },
    "colab_type": "code",
    "executionInfo": {
     "elapsed": 26807,
     "status": "ok",
     "timestamp": 1553762083930,
     "user": {
      "displayName": "Lee Ying Yang",
      "photoUrl": "",
      "userId": "03053323072997202924"
     },
     "user_tz": -480
    },
    "id": "BieHiY5Bvpe-",
    "outputId": "de330d9b-3fc5-46bd-f29b-e61ed6ed1c22"
   },
   "outputs": [
    {
     "name": "stdout",
     "output_type": "stream",
     "text": [
      "[[13365  6836]\n",
      " [ 6029 21977]]\n",
      "0.7331300433546996\n",
      "0.7735792604586494\n"
     ]
    }
   ],
   "source": [
    "#svd base model\n",
    "svd_model_base = SVD(verbose=False,n_epochs=20)\n",
    "svd_model_base.fit(trainset)\n",
    "diagnose_reccomendation(svd_model_base,valset)"
   ]
  },
  {
   "cell_type": "markdown",
   "metadata": {
    "colab_type": "text",
    "id": "oJ_-qkhzLkuT"
   },
   "source": [
    "## NMF"
   ]
  },
  {
   "cell_type": "code",
   "execution_count": 0,
   "metadata": {
    "colab": {
     "base_uri": "https://localhost:8080/",
     "height": 85
    },
    "colab_type": "code",
    "executionInfo": {
     "elapsed": 25481,
     "status": "ok",
     "timestamp": 1553762597659,
     "user": {
      "displayName": "Lee Ying Yang",
      "photoUrl": "",
      "userId": "03053323072997202924"
     },
     "user_tz": -480
    },
    "id": "0VqUh1C5kfqW",
    "outputId": "d676e48f-9768-461d-8487-dc87f1ef5d58"
   },
   "outputs": [
    {
     "name": "stdout",
     "output_type": "stream",
     "text": [
      "[[13424  6777]\n",
      " [ 7076 20930]]\n",
      "0.7126350944883523\n",
      "0.7513506721949993\n"
     ]
    }
   ],
   "source": [
    "nmf_model = NMF(verbose=False)\n",
    "nmf_model.fit(trainset)\n",
    "diagnose_reccomendation(nmf_model,valset)"
   ]
  },
  {
   "cell_type": "markdown",
   "metadata": {
    "colab_type": "text",
    "id": "F4xHn6s0zpCF"
   },
   "source": [
    "SVD++ has best performance, 74.3% accuracy. \n",
    "However much long training time for marginal improvement over SVD\n",
    "\n",
    "SVD seems most promising\n",
    "\n",
    "## SVD - Tuned"
   ]
  },
  {
   "cell_type": "code",
   "execution_count": 0,
   "metadata": {
    "colab": {
     "base_uri": "https://localhost:8080/",
     "height": 85
    },
    "colab_type": "code",
    "executionInfo": {
     "elapsed": 483331,
     "status": "ok",
     "timestamp": 1555244951853,
     "user": {
      "displayName": "Lee Ying Yang",
      "photoUrl": "",
      "userId": "03053323072997202924"
     },
     "user_tz": -480
    },
    "id": "td-7QE9Ug3qR",
    "outputId": "49d0e442-ee49-4643-a606-10dbda143051"
   },
   "outputs": [
    {
     "name": "stdout",
     "output_type": "stream",
     "text": [
      "[[13477  6724]\n",
      " [ 5513 22493]]\n",
      "0.7461571970875599\n",
      "0.7861524212292261\n"
     ]
    }
   ],
   "source": [
    "#up numer of epochs and factors to increase latent vector dimensions/complexity\n",
    "svd_model_impv = SVD(verbose=False,n_epochs=55,n_factors=550,reg_all=0.07)\n",
    "svd_model_impv.fit(trainset)\n",
    "\n",
    "diagnose_reccomendation(svd_model_impv,valset)"
   ]
  },
  {
   "cell_type": "code",
   "execution_count": 0,
   "metadata": {
    "colab": {
     "base_uri": "https://localhost:8080/",
     "height": 85
    },
    "colab_type": "code",
    "executionInfo": {
     "elapsed": 483351,
     "status": "ok",
     "timestamp": 1555244951888,
     "user": {
      "displayName": "Lee Ying Yang",
      "photoUrl": "",
      "userId": "03053323072997202924"
     },
     "user_tz": -480
    },
    "id": "L5HflYfBOJw2",
    "outputId": "ffc7319a-8f4f-4b0c-a761-a69c3d2408ed"
   },
   "outputs": [
    {
     "name": "stdout",
     "output_type": "stream",
     "text": [
      "[[ 4  3]\n",
      " [ 6 15]]\n",
      "0.6785714285714286\n",
      "0.7692307692307692\n"
     ]
    }
   ],
   "source": [
    "## check for accuracy on people with less than 10 ratings given in trainset\n",
    "num_ratings=train[\"user\"].value_counts()\n",
    "few_ratings=num_ratings[num_ratings<=10]\n",
    "a=set(few_ratings.index)\n",
    "\n",
    "#filter validationset for people with <=10 ratings in train\n",
    "\n",
    "b=list(filter(lambda x: x[0] in a,valset))\n",
    "diagnose_reccomendation(svd_model_impv,b)"
   ]
  },
  {
   "cell_type": "markdown",
   "metadata": {
    "colab_type": "text",
    "id": "5uNxy5qjanpG"
   },
   "source": [
    "Although not too bad, there is still the problem of a cold start for \n",
    "new users and new movies for the SVD model.\n",
    "\n",
    "In those cases, it may be a better idea to us the XGboost prediction model\n",
    "\n",
    "## Final check on testset"
   ]
  },
  {
   "cell_type": "code",
   "execution_count": 0,
   "metadata": {
    "colab": {
     "base_uri": "https://localhost:8080/",
     "height": 85
    },
    "colab_type": "code",
    "executionInfo": {
     "elapsed": 484021,
     "status": "ok",
     "timestamp": 1555244952569,
     "user": {
      "displayName": "Lee Ying Yang",
      "photoUrl": "",
      "userId": "03053323072997202924"
     },
     "user_tz": -480
    },
    "id": "m3oITBsgoYxv",
    "outputId": "032efa1a-15b4-42fb-ded5-93468fcb8c61"
   },
   "outputs": [
    {
     "name": "stdout",
     "output_type": "stream",
     "text": [
      "[[13388  6833]\n",
      " [ 5445 22544]]\n",
      "0.7453225471893798\n",
      "0.7859707840881358\n"
     ]
    }
   ],
   "source": [
    "diagnose_reccomendation(svd_model_impv,testset)"
   ]
  },
  {
   "cell_type": "code",
   "execution_count": 16,
   "metadata": {
    "colab": {
     "base_uri": "https://localhost:8080/",
     "height": 85
    },
    "colab_type": "code",
    "executionInfo": {
     "elapsed": 485351,
     "status": "ok",
     "timestamp": 1555244953909,
     "user": {
      "displayName": "Lee Ying Yang",
      "photoUrl": "",
      "userId": "03053323072997202924"
     },
     "user_tz": -480
    },
    "id": "4C4SiM5_inN6",
    "outputId": "a185bc34-62e1-4fef-fc9a-fd0386c907cf"
   },
   "outputs": [
    {
     "name": "stdout",
     "output_type": "stream",
     "text": [
      "[[13388  6833]\n",
      " [ 5445 22544]]\n",
      "0.7453225471893798\n",
      "0.7859707840881358\n"
     ]
    }
   ],
   "source": [
    "from surprise import dump\n",
    "#save model and reload\n",
    "#dump.dump(file_name=\"/Users/Sloth/Desktop/bt4222_Project/svd_model\",algo=svd_model_impv)\n",
    "loaded_model = dump.load(\"./saved_models/svd_model\")[1]\n",
    "diagnose_reccomendation(loaded_model,testset)"
   ]
  }
 ],
 "metadata": {
  "colab": {
   "collapsed_sections": [],
   "name": "collaborative_filtering.ipynb",
   "provenance": [],
   "toc_visible": true,
   "version": "0.3.2"
  },
  "kernelspec": {
   "display_name": "Python 3",
   "language": "python",
   "name": "python3"
  },
  "language_info": {
   "codemirror_mode": {
    "name": "ipython",
    "version": 3
   },
   "file_extension": ".py",
   "mimetype": "text/x-python",
   "name": "python",
   "nbconvert_exporter": "python",
   "pygments_lexer": "ipython3",
   "version": "3.6.5"
  }
 },
 "nbformat": 4,
 "nbformat_minor": 1
}
