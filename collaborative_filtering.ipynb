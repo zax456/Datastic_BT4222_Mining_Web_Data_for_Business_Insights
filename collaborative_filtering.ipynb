{
  "nbformat": 4,
  "nbformat_minor": 0,
  "metadata": {
    "colab": {
      "name": "collaborative_filtering.ipynb",
      "version": "0.3.2",
      "provenance": [],
      "collapsed_sections": [],
      "toc_visible": true
    },
    "kernelspec": {
      "name": "python3",
      "display_name": "Python 3"
    }
  },
  "cells": [
    {
      "metadata": {
        "id": "b4ziuTbfLLNP",
        "colab_type": "text"
      },
      "cell_type": "markdown",
      "source": [
        "## Load Data"
      ]
    },
    {
      "metadata": {
        "id": "I1cnOcc2ZsJs",
        "colab_type": "code",
        "colab": {}
      },
      "cell_type": "code",
      "source": [
        "import pandas as pd\n",
        "import numpy as np"
      ],
      "execution_count": 0,
      "outputs": []
    },
    {
      "metadata": {
        "id": "ykQ3iElDaCI0",
        "colab_type": "code",
        "colab": {}
      },
      "cell_type": "code",
      "source": [
        "movies_info=pd.read_csv(\"/Users/Sloth/desktop/bt4222_project/movie_data_merged_v1.csv\").drop(\"Unnamed: 0\",axis=1)\n",
        "user_info=pd.read_csv(r'/Users/Sloth/desktop/bt4222_project/users.dat',sep=r'::',names=[\"user\",\"gender\",\"age\",\"occupation\",\"zip_code\"],engine='python')\n",
        "movie_ratings = pd.read_csv(r'/Users/Sloth/desktop/bt4222_project/training_ratings_for_kaggle_comp.csv')\n",
        "# user_info = pd.read_csv('users.csv', names=[\"user\",\"gender\",\"age\",\"occupation\",\"zip_code\"])"
      ],
      "execution_count": 0,
      "outputs": []
    },
    {
      "metadata": {
        "id": "_myCy2_QV-VC",
        "colab_type": "code",
        "colab": {}
      },
      "cell_type": "code",
      "source": [
        "ratings_v1=movie_ratings.merge(user_info,how=\"left\",left_on=\"user\",right_on=\"user\")\n",
        "ratings_v2=ratings_v1.merge(movies_info,how=\"inner\",left_on=\"movie\",right_on=\"movie_id\")"
      ],
      "execution_count": 0,
      "outputs": []
    },
    {
      "metadata": {
        "id": "Enq3huGgaQNJ",
        "colab_type": "code",
        "colab": {}
      },
      "cell_type": "code",
      "source": [
        "ratings_v2 = ratings_v2.sample(frac=1, axis=0,random_state=1).reset_index(drop=True)\n",
        "n_rows=ratings_v2.shape[0]\n",
        "one_tenth=n_rows//10\n",
        "##train\n",
        "train = ratings_v2.iloc[:8*one_tenth,]\n",
        "validation=ratings_v2.iloc[8*one_tenth:9*one_tenth,]\n",
        "test=ratings_v2.iloc[9*one_tenth:,]"
      ],
      "execution_count": 0,
      "outputs": []
    },
    {
      "metadata": {
        "id": "2a-UhHi8LRH7",
        "colab_type": "text"
      },
      "cell_type": "markdown",
      "source": [
        "## Set up data into surprise package formats"
      ]
    },
    {
      "metadata": {
        "id": "4Y3_eTiaWAKD",
        "colab_type": "code",
        "colab": {}
      },
      "cell_type": "code",
      "source": [
        "from surprise import SVD,NMF,SVDpp,Dataset,Reader\n",
        "from surprise.model_selection import train_test_split\n",
        "\n",
        "reader = Reader(rating_scale=(1, 5))\n",
        "\n",
        "data_1 = Dataset.load_from_df(train[['user', 'movie', 'rating']], reader)\n",
        "data_2 = Dataset.load_from_df(validation[['user', 'movie', 'rating']], reader)\n",
        "data_3 = Dataset.load_from_df(test[['user', 'movie', 'rating']], reader)\n",
        "\n",
        "trainset,dummyset = train_test_split(data_1, test_size=0.00001)\n",
        "dummyset,valset = train_test_split(data_2, test_size=1.0)\n",
        "dummyset,testset= train_test_split(data_3, test_size=1.0)\n"
      ],
      "execution_count": 0,
      "outputs": []
    },
    {
      "metadata": {
        "id": "0jjo1EY9Y7XA",
        "colab_type": "code",
        "colab": {}
      },
      "cell_type": "code",
      "source": [
        "from sklearn.metrics import confusion_matrix,accuracy_score,f1_score\n",
        "\n",
        "def diagnose_reccomendation(model,data):\n",
        "  pred = model.test(data)\n",
        "  pred_rec=pd.DataFrame(pred)\n",
        "  pred_rec[\"real_rec\"]= pred_rec[\"r_ui\"].apply(lambda x: x>=3.5)\n",
        "  pred_rec[\"predict_rec\"] = pred_rec[\"est\"].apply(lambda x: x>=3.5)\n",
        "  print(confusion_matrix(pred_rec[\"real_rec\"],pred_rec[\"predict_rec\"]))\n",
        "  print(accuracy_score(pred_rec[\"real_rec\"],pred_rec[\"predict_rec\"]))\n",
        "  print(f1_score(pred_rec[\"real_rec\"],pred_rec[\"predict_rec\"]))\n",
        "  "
      ],
      "execution_count": 0,
      "outputs": []
    },
    {
      "metadata": {
        "id": "MHJYdjMeLbzQ",
        "colab_type": "text"
      },
      "cell_type": "markdown",
      "source": [
        "## SVD++"
      ]
    },
    {
      "metadata": {
        "id": "eKijxIajTdtX",
        "colab_type": "code",
        "colab": {}
      },
      "cell_type": "code",
      "source": [
        "svd_pp_model = SVDpp(verbose=True,n_epochs=20,n_factors=200,reg_all=0.05)\n",
        "svd_pp_model.fit(trainset)\n",
        "#svd++ model takes super long to train"
      ],
      "execution_count": 0,
      "outputs": []
    },
    {
      "metadata": {
        "id": "uigD9XlSjrfF",
        "colab_type": "code",
        "outputId": "e0a8baad-0cb2-44b6-9f85-c67c7e305d9c",
        "colab": {
          "base_uri": "https://localhost:8080/",
          "height": 85
        }
      },
      "cell_type": "code",
      "source": [
        "#svd++\n",
        "diagnose_reccomendation(svd_pp_model,valset)"
      ],
      "execution_count": 0,
      "outputs": [
        {
          "output_type": "stream",
          "text": [
            "[[13412  6789]\n",
            " [ 5563 22443]]\n",
            "0.7437716514199183\n",
            "0.7841993081519271\n"
          ],
          "name": "stdout"
        }
      ]
    },
    {
      "metadata": {
        "id": "ETyg2iQ1Lhkk",
        "colab_type": "text"
      },
      "cell_type": "markdown",
      "source": [
        "## SVD"
      ]
    },
    {
      "metadata": {
        "id": "BieHiY5Bvpe-",
        "colab_type": "code",
        "outputId": "de330d9b-3fc5-46bd-f29b-e61ed6ed1c22",
        "colab": {
          "base_uri": "https://localhost:8080/",
          "height": 85
        }
      },
      "cell_type": "code",
      "source": [
        "#svd base model\n",
        "svd_model_base = SVD(verbose=False,n_epochs=20)\n",
        "svd_model_base.fit(trainset)\n",
        "diagnose_reccomendation(svd_model_base,valset)"
      ],
      "execution_count": 0,
      "outputs": [
        {
          "output_type": "stream",
          "text": [
            "[[13365  6836]\n",
            " [ 6029 21977]]\n",
            "0.7331300433546996\n",
            "0.7735792604586494\n"
          ],
          "name": "stdout"
        }
      ]
    },
    {
      "metadata": {
        "id": "oJ_-qkhzLkuT",
        "colab_type": "text"
      },
      "cell_type": "markdown",
      "source": [
        "## NMF"
      ]
    },
    {
      "metadata": {
        "id": "0VqUh1C5kfqW",
        "colab_type": "code",
        "outputId": "d676e48f-9768-461d-8487-dc87f1ef5d58",
        "colab": {
          "base_uri": "https://localhost:8080/",
          "height": 85
        }
      },
      "cell_type": "code",
      "source": [
        "nmf_model = NMF(verbose=False)\n",
        "nmf_model.fit(trainset)\n",
        "diagnose_reccomendation(nmf_model,valset)"
      ],
      "execution_count": 0,
      "outputs": [
        {
          "output_type": "stream",
          "text": [
            "[[13424  6777]\n",
            " [ 7076 20930]]\n",
            "0.7126350944883523\n",
            "0.7513506721949993\n"
          ],
          "name": "stdout"
        }
      ]
    },
    {
      "metadata": {
        "id": "F4xHn6s0zpCF",
        "colab_type": "text"
      },
      "cell_type": "markdown",
      "source": [
        "SVD++ has best performance, 74.3% accuracy. \n",
        "However much long training time for marginal improvement over SVD\n",
        "\n",
        "SVD seems most promising\n",
        "\n",
        "## SVD - Tuned"
      ]
    },
    {
      "metadata": {
        "id": "td-7QE9Ug3qR",
        "colab_type": "code",
        "outputId": "49d0e442-ee49-4643-a606-10dbda143051",
        "colab": {
          "base_uri": "https://localhost:8080/",
          "height": 85
        }
      },
      "cell_type": "code",
      "source": [
        "#up numer of epochs and factors to increase latent vector dimensions/complexity\n",
        "svd_model_impv = SVD(verbose=False,n_epochs=55,n_factors=550,reg_all=0.07)\n",
        "svd_model_impv.fit(trainset)\n",
        "\n",
        "diagnose_reccomendation(svd_model_impv,valset)"
      ],
      "execution_count": 0,
      "outputs": [
        {
          "output_type": "stream",
          "text": [
            "[[13477  6724]\n",
            " [ 5513 22493]]\n",
            "0.7461571970875599\n",
            "0.7861524212292261\n"
          ],
          "name": "stdout"
        }
      ]
    },
    {
      "metadata": {
        "id": "L5HflYfBOJw2",
        "colab_type": "code",
        "outputId": "ffc7319a-8f4f-4b0c-a761-a69c3d2408ed",
        "colab": {
          "base_uri": "https://localhost:8080/",
          "height": 85
        }
      },
      "cell_type": "code",
      "source": [
        "## check for accuracy on people with less than 10 ratings given in trainset\n",
        "num_ratings=train[\"user\"].value_counts()\n",
        "few_ratings=num_ratings[num_ratings<=10]\n",
        "a=set(few_ratings.index)\n",
        "\n",
        "#filter validationset for people with <=10 ratings in train\n",
        "\n",
        "b=list(filter(lambda x: x[0] in a,valset))\n",
        "diagnose_reccomendation(svd_model_impv,b)"
      ],
      "execution_count": 0,
      "outputs": [
        {
          "output_type": "stream",
          "text": [
            "[[ 4  3]\n",
            " [ 6 15]]\n",
            "0.6785714285714286\n",
            "0.7692307692307692\n"
          ],
          "name": "stdout"
        }
      ]
    },
    {
      "metadata": {
        "id": "5uNxy5qjanpG",
        "colab_type": "text"
      },
      "cell_type": "markdown",
      "source": [
        "Although not too bad, there is still the problem of a cold start for \n",
        "new users and new movies for the SVD model.\n",
        "\n",
        "In those cases, it may be a better idea to us the XGboost prediction model\n",
        "\n",
        "## Final check on testset"
      ]
    },
    {
      "metadata": {
        "id": "m3oITBsgoYxv",
        "colab_type": "code",
        "outputId": "032efa1a-15b4-42fb-ded5-93468fcb8c61",
        "colab": {
          "base_uri": "https://localhost:8080/",
          "height": 85
        }
      },
      "cell_type": "code",
      "source": [
        "diagnose_reccomendation(svd_model_impv,testset)"
      ],
      "execution_count": 0,
      "outputs": [
        {
          "output_type": "stream",
          "text": [
            "[[13388  6833]\n",
            " [ 5445 22544]]\n",
            "0.7453225471893798\n",
            "0.7859707840881358\n"
          ],
          "name": "stdout"
        }
      ]
    },
    {
      "metadata": {
        "id": "4C4SiM5_inN6",
        "colab_type": "code",
        "outputId": "a185bc34-62e1-4fef-fc9a-fd0386c907cf",
        "colab": {
          "base_uri": "https://localhost:8080/",
          "height": 85
        }
      },
      "cell_type": "code",
      "source": [
        "from surprise import dump\n",
        "#save model and reload\n",
        "dump.dump(file_name=\"/Users/Sloth/Desktop/bt4222_Project/svd_model\",algo=svd_model_impv)\n",
        "loaded_model = dump.load(\"/Users/Sloth/Desktop/bt4222_Project/svd_model\")[1]\n",
        "diagnose_reccomendation(loaded_model,testset)"
      ],
      "execution_count": 0,
      "outputs": [
        {
          "output_type": "stream",
          "text": [
            "[[13388  6833]\n",
            " [ 5445 22544]]\n",
            "0.7453225471893798\n",
            "0.7859707840881358\n"
          ],
          "name": "stdout"
        }
      ]
    }
  ]
}