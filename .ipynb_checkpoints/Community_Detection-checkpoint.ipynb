{
 "cells": [
  {
   "cell_type": "markdown",
   "metadata": {
    "colab_type": "text",
    "id": "XvqDpnu6jVwS"
   },
   "source": [
    "## Introduction \n",
    "\n",
    "This notebook serves to carry out community detection on the user base in our datasets. \n",
    "It is to help further investigate users' preferences of movies in the notebook of \"Communities Study\". \n",
    "\n",
    "The purpose of this notebook is to form the communities and extract the user dictionaries for subsequent use.\n"
   ]
  },
  {
   "cell_type": "markdown",
   "metadata": {
    "colab_type": "text",
    "id": "XsVfLnvFX-Gl"
   },
   "source": [
    "### Import packages"
   ]
  },
  {
   "cell_type": "code",
   "execution_count": 3,
   "metadata": {
    "colab": {
     "base_uri": "https://localhost:8080/",
     "height": 301
    },
    "colab_type": "code",
    "executionInfo": {
     "elapsed": 27339,
     "status": "ok",
     "timestamp": 1554270186583,
     "user": {
      "displayName": "Ang Kian Hwee",
      "photoUrl": "https://lh5.googleusercontent.com/-6vwwv6JbUhY/AAAAAAAAAAI/AAAAAAAAAH0/sgw7oVMjDBU/s64/photo.jpg",
      "userId": "10009756353658775746"
     },
     "user_tz": -480
    },
    "id": "EKZ6Fv35PcZE",
    "outputId": "84b7622f-cfed-4a5e-e61d-57332abf9a9b"
   },
   "outputs": [],
   "source": [
    "import json\n",
    "import re\n",
    "import pylab as pl\n",
    "import pandas as pd\n",
    "import numpy as np\n",
    "import matplotlib.pyplot as plt\n",
    "from matplotlib import gridspec\n",
    "from collections import Counter\n",
    "import networkx as nx\n",
    "from fa2 import ForceAtlas2\n",
    "import nltk\n",
    "import community\n",
    "from wordcloud import WordCloud, STOPWORDS\n",
    "import string\n",
    "import pprint\n",
    "pp = pprint.PrettyPrinter(width=41, compact=True)\n",
    "from prettytable import PrettyTable\n",
    "from sklearn.feature_extraction.text import CountVectorizer, TfidfVectorizer\n",
    "from textblob import TextBlob\n",
    "from sklearn.model_selection import train_test_split\n",
    "from afinn import Afinn\n",
    "import spacy\n",
    "import random\n",
    "from colour import Color\n",
    "import operator\n",
    "import math\n",
    "\n",
    "plt.style.use('ggplot')\n",
    "%matplotlib inline"
   ]
  },
  {
   "cell_type": "code",
   "execution_count": 4,
   "metadata": {
    "colab": {},
    "colab_type": "code",
    "id": "0RZSCB57PLLr"
   },
   "outputs": [],
   "source": [
    "master_movies_df = pd.read_csv('./datasets/movie_data_merged_v2.csv')\n",
    "master_ratings_df_full = pd.read_csv('./datasets/user_ratings.csv')\n",
    "# master_ratings_df_sample = master_ratings_df_full.sample(frac = 1/5, replace = True, random_state = 6)\n",
    "user_demo_df = pd.read_csv('./datasets/users.csv').set_index(\"userid\", drop=True)\n",
    "del master_movies_df['Unnamed: 0']\n",
    "\n",
    "# user_demo_df = pd.read_csv('users.dat', sep=\"::\", names = [\"userid\", \"gender\", \"age\", \"occupation\", \"zip_code\"]).set_index(\"userid\", drop=True)"
   ]
  },
  {
   "cell_type": "markdown",
   "metadata": {
    "colab_type": "text",
    "id": "m5x7ujd6acDE"
   },
   "source": [
    "### Build network"
   ]
  },
  {
   "cell_type": "code",
   "execution_count": 5,
   "metadata": {
    "colab": {},
    "colab_type": "code",
    "id": "xVpizVXYjqOJ"
   },
   "outputs": [],
   "source": [
    "# Due to the nature of our dataset, we are using Undirected graph\n",
    "# node - user, weight = with number of movies watched  \n",
    "# edge - both user has reviewed the same movie \n",
    "g = nx.Graph()\n",
    "user_movie_counts = master_ratings_df_full.groupby('user').size()\n",
    "\n",
    "# Adding each unique users as nodes into graph\n",
    "for user, count in user_movie_counts.items():\n",
    "    g.add_node(user, size=count)"
   ]
  },
  {
   "cell_type": "code",
   "execution_count": 6,
   "metadata": {
    "colab": {},
    "colab_type": "code",
    "id": "jH2VI-CpPEB7"
   },
   "outputs": [],
   "source": [
    "# get the all users who watched the same movies \n",
    "# grouped them by the movie IDs \n",
    "common_movie_users = master_ratings_df_full.groupby('movie')['user'].apply(list)"
   ]
  },
  {
   "cell_type": "code",
   "execution_count": null,
   "metadata": {
    "colab": {},
    "colab_type": "code",
    "id": "WC0UvEApQEsJ"
   },
   "outputs": [],
   "source": [
    "# get the edges and weight of each edge -- number of movies which both users watched in common\n",
    "edgelist = {}\n",
    "for movie, users in common_movie_users.items():\n",
    "    lst = users\n",
    "    \n",
    "    for i in range(len(lst)):\n",
    "        for j in range(0, len(lst)):\n",
    "            if lst[i] == lst[j]: \n",
    "                continue\n",
    "            if lst[i] not in edgelist.keys():\n",
    "                edgelist[lst[i]] = []\n",
    "                edgelist[lst[i]].append(lst[j])\n",
    "            else:\n",
    "                edgelist[lst[i]].append(lst[j])"
   ]
  },
  {
   "cell_type": "code",
   "execution_count": null,
   "metadata": {
    "colab": {},
    "colab_type": "code",
    "id": "TuybX_lNTt_R"
   },
   "outputs": [],
   "source": [
    "# add the edges with weights\n",
    "# Since we have all the neighbors which current user is connected with, \n",
    "# we can use Counter and get the total count of those users respectively. \n",
    "for curr_user, neighbours in edgelist.items():\n",
    "    edge_weights = Counter(neighbours) # count of each user which current node is connected to\n",
    "    \n",
    "    for user, count in edge_weights.items():\n",
    "        # add edge between 2 users with the count as weight\n",
    "        g.add_edge(curr_user, user, weight=count)"
   ]
  },
  {
   "cell_type": "code",
   "execution_count": null,
   "metadata": {
    "colab": {},
    "colab_type": "code",
    "id": "MUoWy_rVVn2O"
   },
   "outputs": [],
   "source": [
    "# finding positions of the nodes using force atlas algorithm\n",
    "f2 = ForceAtlas2(\n",
    "                # Behavior alternatives\n",
    "                outboundAttractionDistribution=False,  # Dissuade hubs\n",
    "                edgeWeightInfluence=1.0,\n",
    "\n",
    "                # Performance\n",
    "                jitterTolerance=1.0,  # Tolerance\n",
    "                barnesHutOptimize=True,\n",
    "                barnesHutTheta=1.2,\n",
    "\n",
    "                # Tuning\n",
    "                scalingRatio=2,\n",
    "                strongGravityMode=False,\n",
    "                gravity=0,\n",
    "\n",
    "                # Log\n",
    "                verbose=False)\n",
    "\n",
    "positions_g = f2.forceatlas2_networkx_layout(g, pos=None, iterations=2000)"
   ]
  },
  {
   "cell_type": "code",
   "execution_count": null,
   "metadata": {
    "colab": {
     "base_uri": "https://localhost:8080/",
     "height": 628
    },
    "colab_type": "code",
    "executionInfo": {
     "elapsed": 1473045,
     "status": "ok",
     "timestamp": 1554271999182,
     "user": {
      "displayName": "Ang Kian Hwee",
      "photoUrl": "https://lh5.googleusercontent.com/-6vwwv6JbUhY/AAAAAAAAAAI/AAAAAAAAAH0/sgw7oVMjDBU/s64/photo.jpg",
      "userId": "10009756353658775746"
     },
     "user_tz": -480
    },
    "id": "GADx61FwWiKn",
    "outputId": "16401f3d-d7a9-4381-8a08-c0a22d767bc9"
   },
   "outputs": [],
   "source": [
    "plt.figure(figsize=(15,10))\n",
    "nx.draw_networkx(g, \n",
    "                 pos = positions_g, \n",
    "                 width = 0.1, \n",
    "                 alpha=0.6, \n",
    "                 cmap=plt.get_cmap('jet'),\n",
    "                 node_color='blue',\n",
    "                 node_size=22, \n",
    "                 edge_size=90, \n",
    "                 with_labels=False)\n",
    "plt.axis('off')\n",
    "plt.show()"
   ]
  },
  {
   "cell_type": "code",
   "execution_count": null,
   "metadata": {
    "colab": {
     "base_uri": "https://localhost:8080/",
     "height": 35
    },
    "colab_type": "code",
    "executionInfo": {
     "elapsed": 1470954,
     "status": "ok",
     "timestamp": 1554271999186,
     "user": {
      "displayName": "Ang Kian Hwee",
      "photoUrl": "https://lh5.googleusercontent.com/-6vwwv6JbUhY/AAAAAAAAAAI/AAAAAAAAAH0/sgw7oVMjDBU/s64/photo.jpg",
      "userId": "10009756353658775746"
     },
     "user_tz": -480
    },
    "id": "OI0YttoiYBqO",
    "outputId": "7c69dedc-80af-4244-aecd-9a9256508f80"
   },
   "outputs": [],
   "source": [
    "cc = nx.number_connected_components(g)\n",
    "print(\"There are %d connected components in the review network.\" %cc)"
   ]
  },
  {
   "cell_type": "markdown",
   "metadata": {
    "colab_type": "text",
    "id": "zXL7tSHavlpK"
   },
   "source": [
    "<div class=\"alert alert-block alert-info\">\n",
    "    In this network, the **nodes** are the **audience/users** who rates each movie. Each pair of nodes have a **connection** if both users have **watched at least 1 similar movie**. From the network above, we see that all the nodes are connected in this network - all pairs of user has watched at least 1 same movie.\n",
    "</div>"
   ]
  },
  {
   "cell_type": "markdown",
   "metadata": {
    "colab_type": "text",
    "id": "uWPSxFdIrTHr"
   },
   "source": [
    "### Network Attributes"
   ]
  },
  {
   "cell_type": "markdown",
   "metadata": {
    "colab_type": "text",
    "id": "ntmt5e1creIN"
   },
   "source": [
    "#### Number of nodes, Number of edges, Average degree"
   ]
  },
  {
   "cell_type": "code",
   "execution_count": null,
   "metadata": {
    "colab": {
     "base_uri": "https://localhost:8080/",
     "height": 106
    },
    "colab_type": "code",
    "executionInfo": {
     "elapsed": 1040296,
     "status": "ok",
     "timestamp": 1554271999188,
     "user": {
      "displayName": "Ang Kian Hwee",
      "photoUrl": "https://lh5.googleusercontent.com/-6vwwv6JbUhY/AAAAAAAAAAI/AAAAAAAAAH0/sgw7oVMjDBU/s64/photo.jpg",
      "userId": "10009756353658775746"
     },
     "user_tz": -480
    },
    "id": "D2wgbCHfpWyd",
    "outputId": "f0a2042d-47a2-456d-a907-a31dea881da2"
   },
   "outputs": [],
   "source": [
    "print(nx.info(g))"
   ]
  },
  {
   "cell_type": "markdown",
   "metadata": {
    "colab_type": "text",
    "id": "jRRG9O_K3q8J"
   },
   "source": [
    "<div class=\"alert alert-block alert-info\">\n",
    "The total number of nodes in our movie network is **3255** and the total number of edges is **5021853**. Each node has on average **3085** connections to other nodes. \n",
    "</div>"
   ]
  },
  {
   "cell_type": "markdown",
   "metadata": {
    "colab_type": "text",
    "id": "FdWt6SfgrkR2"
   },
   "source": [
    "### Centralities Measures"
   ]
  },
  {
   "cell_type": "markdown",
   "metadata": {
    "colab_type": "text",
    "id": "7BnAxjL_rLsr"
   },
   "source": [
    "#### Top 3 Nodes with Highest degrees"
   ]
  },
  {
   "cell_type": "code",
   "execution_count": null,
   "metadata": {
    "colab": {
     "base_uri": "https://localhost:8080/",
     "height": 141
    },
    "colab_type": "code",
    "executionInfo": {
     "elapsed": 298886,
     "status": "ok",
     "timestamp": 1554271999190,
     "user": {
      "displayName": "Ang Kian Hwee",
      "photoUrl": "https://lh5.googleusercontent.com/-6vwwv6JbUhY/AAAAAAAAAAI/AAAAAAAAAH0/sgw7oVMjDBU/s64/photo.jpg",
      "userId": "10009756353658775746"
     },
     "user_tz": -480
    },
    "id": "89KQjF_irS3r",
    "outputId": "3ed53ff5-73ad-4488-9669-48f467a77b7a"
   },
   "outputs": [],
   "source": [
    "degree = list(g.degree())\n",
    "degree = sorted(degree,key=lambda x:x[1], reverse=True)\n",
    "\n",
    "x = PrettyTable()\n",
    "\n",
    "x.field_names = [\"UserId\", \"Number of degree\"]\n",
    "\n",
    "for i in degree[0:3]:\n",
    "    x.add_row([i[0], i[1]])\n",
    "\n",
    "print(x)"
   ]
  },
  {
   "cell_type": "markdown",
   "metadata": {
    "colab_type": "text",
    "id": "WPKSuU6A3xYU"
   },
   "source": [
    "<div class=\"alert alert-block alert-info\">\n",
    "The top 3 nodes have equal number of degrees of **3254**. This means each pair of node has watched at least 1 common movie. \n",
    "</div>"
   ]
  },
  {
   "cell_type": "markdown",
   "metadata": {
    "colab_type": "text",
    "id": "LW6yQXc9rWfR"
   },
   "source": [
    "#### Top 3 Nodes with Highest Degree Centrality"
   ]
  },
  {
   "cell_type": "markdown",
   "metadata": {
    "colab_type": "text",
    "id": "PnIMa2uxsptk"
   },
   "source": [
    "> Degree centrality is the most basic method of defining centrality, basing the centrality only on the number of neighbours a node has."
   ]
  },
  {
   "cell_type": "code",
   "execution_count": null,
   "metadata": {
    "colab": {
     "base_uri": "https://localhost:8080/",
     "height": 141
    },
    "colab_type": "code",
    "executionInfo": {
     "elapsed": 295900,
     "status": "ok",
     "timestamp": 1554271999192,
     "user": {
      "displayName": "Ang Kian Hwee",
      "photoUrl": "https://lh5.googleusercontent.com/-6vwwv6JbUhY/AAAAAAAAAAI/AAAAAAAAAH0/sgw7oVMjDBU/s64/photo.jpg",
      "userId": "10009756353658775746"
     },
     "user_tz": -480
    },
    "id": "m5QpT8tWsvE7",
    "outputId": "ca628a87-3da1-44b9-a3a5-7e2bbb086ccd"
   },
   "outputs": [],
   "source": [
    "deg_cent = nx.degree_centrality(g)\n",
    "deg_cent = sorted(deg_cent.items(), key=lambda x:x[1], reverse=True)\n",
    "\n",
    "x = PrettyTable()\n",
    "\n",
    "x.field_names = [\"UserId\", \"Degree centrality\"]\n",
    "\n",
    "for i in deg_cent[0:3]:\n",
    "    x.add_row([i[0], i[1]])\n",
    "    \n",
    "print(x)"
   ]
  },
  {
   "cell_type": "markdown",
   "metadata": {
    "colab_type": "text",
    "id": "4-eBhzDA3z4z"
   },
   "source": [
    "<div class=\"alert alert-block alert-info\">\n",
    "With a degree centrality close to 1, it means the top 3 nodes are likely to centre of the network. However we saw that each node is connected to every other nodes, thus each node can be the center of the network. \n",
    "</div>"
   ]
  },
  {
   "cell_type": "markdown",
   "metadata": {
    "colab_type": "text",
    "id": "xdGdLahmtF_k"
   },
   "source": [
    "#### Top 3 Nodes with Hightest Eigenvector Centrality"
   ]
  },
  {
   "cell_type": "markdown",
   "metadata": {
    "colab_type": "text",
    "id": "oYce7jvVtIrM"
   },
   "source": [
    "> The eigenvector centrality thesis read: A node is important if it is linked to by other important nodes. It is a measure of the influence of a node in a network. "
   ]
  },
  {
   "cell_type": "code",
   "execution_count": null,
   "metadata": {
    "colab": {
     "base_uri": "https://localhost:8080/",
     "height": 141
    },
    "colab_type": "code",
    "executionInfo": {
     "elapsed": 385263,
     "status": "ok",
     "timestamp": 1554272092267,
     "user": {
      "displayName": "Ang Kian Hwee",
      "photoUrl": "https://lh5.googleusercontent.com/-6vwwv6JbUhY/AAAAAAAAAAI/AAAAAAAAAH0/sgw7oVMjDBU/s64/photo.jpg",
      "userId": "10009756353658775746"
     },
     "user_tz": -480
    },
    "id": "1XBX1I5ztLIM",
    "outputId": "7e494ff9-ce04-4252-f779-432d00ed9b4d"
   },
   "outputs": [],
   "source": [
    "eigen = nx.eigenvector_centrality(g)\n",
    "eigen_sorted = sorted(eigen.items(), key=lambda x:x[1], reverse=True)\n",
    "\n",
    "x = PrettyTable()\n",
    "\n",
    "x.field_names = [\"UserId\", \"Eigenvector centrality\"]\n",
    "\n",
    "for i in eigen_sorted[0:3]:\n",
    "    x.add_row([i[0], i[1]])\n",
    "    \n",
    "print(x)"
   ]
  },
  {
   "cell_type": "markdown",
   "metadata": {
    "colab_type": "text",
    "id": "99GQFZfg32q3"
   },
   "source": [
    "<div class=\"alert alert-block alert-info\">\n",
    "The top 3 nodes are observed to have a Eigenvector centrality close to 0. This means these nodes do not have any influence on other nodes. This can be said for all the nodes in our network since they are all connected to each other.  \n",
    "</div>"
   ]
  },
  {
   "cell_type": "markdown",
   "metadata": {
    "colab_type": "text",
    "id": "zvDPrTNYtct5"
   },
   "source": [
    "---\n",
    "### Community Detection"
   ]
  },
  {
   "cell_type": "markdown",
   "metadata": {
    "colab_type": "text",
    "id": "OrV9XNPrccYQ"
   },
   "source": [
    "#### Get user list of each community "
   ]
  },
  {
   "cell_type": "code",
   "execution_count": null,
   "metadata": {
    "colab": {},
    "colab_type": "code",
    "id": "2ohd4OWU0dq4"
   },
   "outputs": [],
   "source": [
    "# using community library to create communities from our network\n",
    "communities_generator = community.best_partition(g)\n",
    "\n",
    "# get the community index of each user\n",
    "values = [communities_generator.get(node) for node in g.nodes()]\n",
    "\n",
    "# the number of communities formed within network\n",
    "size = float(len(set(communities_generator.values())))"
   ]
  },
  {
   "cell_type": "code",
   "execution_count": null,
   "metadata": {
    "colab": {},
    "colab_type": "code",
    "id": "k43NHzRV0g42"
   },
   "outputs": [],
   "source": [
    "# group userIds according to their assigned community index\n",
    "nodes_in_coms = {}\n",
    "\n",
    "for com in set(communities_generator.values()) :\n",
    "    \n",
    "    # get all the nodes belonging to a community \n",
    "    list_nodes = [nodes for nodes in communities_generator.keys() if communities_generator[nodes] == com]\n",
    "    nodes_in_coms[com] = list_nodes"
   ]
  },
  {
   "cell_type": "code",
   "execution_count": null,
   "metadata": {
    "colab": {
     "base_uri": "https://localhost:8080/",
     "height": 35
    },
    "colab_type": "code",
    "executionInfo": {
     "elapsed": 277060,
     "status": "ok",
     "timestamp": 1554272377925,
     "user": {
      "displayName": "Ang Kian Hwee",
      "photoUrl": "https://lh5.googleusercontent.com/-6vwwv6JbUhY/AAAAAAAAAAI/AAAAAAAAAH0/sgw7oVMjDBU/s64/photo.jpg",
      "userId": "10009756353658775746"
     },
     "user_tz": -480
    },
    "id": "io8S2CEbYyf7",
    "outputId": "f073cd31-12ac-408f-b472-9fb6586273b4"
   },
   "outputs": [],
   "source": [
    "print(\"The number of communities in our network = %d.\" %size)"
   ]
  },
  {
   "cell_type": "code",
   "execution_count": null,
   "metadata": {
    "colab": {
     "base_uri": "https://localhost:8080/",
     "height": 733
    },
    "colab_type": "code",
    "id": "PswSmgmvFiZ7",
    "outputId": "21555330-3515-4943-a5e5-5a945b872881"
   },
   "outputs": [],
   "source": [
    "# Plotting out the different communities within the network\n",
    "pos = nx.spring_layout(g)\n",
    "count = 0\n",
    "\n",
    "plt.figure(figsize=(15,12))\n",
    "\n",
    "for com in set(communities_generator.values()) :\n",
    "    count = count + 1.\n",
    "    c = \"#{:06x}\".format(random.randint(0, 0xFFFFFF)) # generate color values\n",
    "    color = []\n",
    "    \n",
    "    # get all the nodes belonging to a community \n",
    "    list_nodes = [nodes for nodes in communities_generator.keys()\n",
    "                                if communities_generator[nodes] == com]\n",
    "    \n",
    "    for n in list_nodes: # color generator\n",
    "        color.append(c)\n",
    "        \n",
    "    nx.draw_networkx_nodes(g, positions_g, list_nodes, node_size = 15, alpha=0.7,\n",
    "                                node_color=color)\n",
    "\n",
    "\n",
    "nx.draw_networkx_edges(g, pos = positions_g, alpha = 0.4, width = 0.3)\n",
    "\n",
    "plt.axis('off')\n",
    "plt.show()"
   ]
  },
  {
   "cell_type": "markdown",
   "metadata": {
    "colab_type": "text",
    "id": "V63_mYim1jix"
   },
   "source": [
    "\n",
    "\n",
    "<div class=\"alert alert-block alert-info\">\n",
    "    From the color codings, we see that there are 4 communities formed within our movie network. These communities should contain users with similar traits internally but maybe uniquely different among the communities.\n",
    "</div>"
   ]
  },
  {
   "cell_type": "markdown",
   "metadata": {
    "colab_type": "text",
    "id": "C0yyjCGI1n95"
   },
   "source": [
    "---"
   ]
  }
 ],
 "metadata": {
  "accelerator": "GPU",
  "colab": {
   "collapsed_sections": [
    "XsVfLnvFX-Gl",
    "m5x7ujd6acDE",
    "uWPSxFdIrTHr",
    "ntmt5e1creIN",
    "FdWt6SfgrkR2",
    "7BnAxjL_rLsr",
    "LW6yQXc9rWfR",
    "xdGdLahmtF_k",
    "zvDPrTNYtct5"
   ],
   "name": "Community_Detection.ipynb",
   "provenance": [],
   "version": "0.3.2"
  },
  "kernelspec": {
   "display_name": "Python 3",
   "language": "python",
   "name": "python3"
  },
  "language_info": {
   "codemirror_mode": {
    "name": "ipython",
    "version": 3
   },
   "file_extension": ".py",
   "mimetype": "text/x-python",
   "name": "python",
   "nbconvert_exporter": "python",
   "pygments_lexer": "ipython3",
   "version": "3.6.5"
  }
 },
 "nbformat": 4,
 "nbformat_minor": 1
}
